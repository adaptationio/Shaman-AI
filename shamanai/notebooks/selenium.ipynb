{
 "cells": [
  {
   "cell_type": "code",
   "execution_count": 6,
   "source": [
    "from webdriver_manager.chrome import ChromeDriverManager\n",
    "\n",
    "driver = webdriver.Chrome(ChromeDriverManager().install())"
   ],
   "outputs": [
    {
     "output_type": "stream",
     "name": "stderr",
     "text": [
      "[WDM] - \n",
      "\n",
      "[WDM] - ====== WebDriver manager ======\n",
      "[WDM] - Current google-chrome version is 94.0.4606\n",
      "[WDM] - Get LATEST driver version for 94.0.4606\n",
      "[WDM] - There is no [linux64] chromedriver for browser 94.0.4606 in cache\n",
      "[WDM] - Get LATEST driver version for 94.0.4606\n",
      "[WDM] - Trying to download new driver from https://chromedriver.storage.googleapis.com/94.0.4606.61/chromedriver_linux64.zip\n",
      "[WDM] - Driver has been saved in cache [/home/adaptationai/.wdm/drivers/chromedriver/linux64/94.0.4606.61]\n",
      "/tmp/ipykernel_17704/1781563638.py:3: DeprecationWarning: executable_path has been deprecated, please pass in a Service object\n",
      "  driver = webdriver.Chrome(ChromeDriverManager().install())\n"
     ]
    }
   ],
   "metadata": {}
  },
  {
   "cell_type": "code",
   "execution_count": 4,
   "source": [
    "!pip install selenium"
   ],
   "outputs": [
    {
     "output_type": "stream",
     "name": "stdout",
     "text": [
      "Collecting selenium\n",
      "  Downloading selenium-4.0.0-py3-none-any.whl (954 kB)\n",
      "\u001b[K     |████████████████████████████████| 954 kB 1.2 MB/s \n",
      "\u001b[?25hCollecting trio~=0.17\n",
      "  Downloading trio-0.19.0-py3-none-any.whl (356 kB)\n",
      "\u001b[K     |████████████████████████████████| 356 kB 1.2 MB/s \n",
      "\u001b[?25hCollecting trio-websocket~=0.9\n",
      "  Downloading trio_websocket-0.9.2-py3-none-any.whl (16 kB)\n",
      "Requirement already satisfied: urllib3[secure]~=1.26 in /home/adaptationai/anaconda3/envs/shamanai/lib/python3.8/site-packages (from selenium) (1.26.7)\n",
      "Collecting outcome\n",
      "  Downloading outcome-1.1.0-py2.py3-none-any.whl (9.7 kB)\n",
      "Requirement already satisfied: attrs>=19.2.0 in /home/adaptationai/anaconda3/envs/shamanai/lib/python3.8/site-packages (from trio~=0.17->selenium) (21.2.0)\n",
      "Requirement already satisfied: idna in /home/adaptationai/anaconda3/envs/shamanai/lib/python3.8/site-packages (from trio~=0.17->selenium) (3.2)\n",
      "Collecting sniffio\n",
      "  Downloading sniffio-1.2.0-py3-none-any.whl (10 kB)\n",
      "Collecting sortedcontainers\n",
      "  Downloading sortedcontainers-2.4.0-py2.py3-none-any.whl (29 kB)\n",
      "Requirement already satisfied: async-generator>=1.9 in /home/adaptationai/anaconda3/envs/shamanai/lib/python3.8/site-packages (from trio~=0.17->selenium) (1.10)\n",
      "Collecting wsproto>=0.14\n",
      "  Downloading wsproto-1.0.0-py3-none-any.whl (24 kB)\n",
      "Collecting cryptography>=1.3.4\n",
      "  Downloading cryptography-35.0.0-cp36-abi3-manylinux_2_24_x86_64.whl (3.5 MB)\n",
      "\u001b[K     |████████████████████████████████| 3.5 MB 1.4 MB/s \n",
      "\u001b[?25hRequirement already satisfied: certifi in /home/adaptationai/anaconda3/envs/shamanai/lib/python3.8/site-packages (from urllib3[secure]~=1.26->selenium) (2021.5.30)\n",
      "Collecting pyOpenSSL>=0.14\n",
      "  Downloading pyOpenSSL-21.0.0-py2.py3-none-any.whl (55 kB)\n",
      "\u001b[K     |████████████████████████████████| 55 kB 1.0 MB/s \n",
      "\u001b[?25hRequirement already satisfied: cffi>=1.12 in /home/adaptationai/anaconda3/envs/shamanai/lib/python3.8/site-packages (from cryptography>=1.3.4->urllib3[secure]~=1.26->selenium) (1.14.6)\n",
      "Requirement already satisfied: pycparser in /home/adaptationai/anaconda3/envs/shamanai/lib/python3.8/site-packages (from cffi>=1.12->cryptography>=1.3.4->urllib3[secure]~=1.26->selenium) (2.20)\n",
      "Requirement already satisfied: six>=1.5.2 in /home/adaptationai/anaconda3/envs/shamanai/lib/python3.8/site-packages (from pyOpenSSL>=0.14->urllib3[secure]~=1.26->selenium) (1.16.0)\n",
      "Collecting h11<1,>=0.9.0\n",
      "  Downloading h11-0.12.0-py3-none-any.whl (54 kB)\n",
      "\u001b[K     |████████████████████████████████| 54 kB 956 kB/s \n",
      "\u001b[?25hInstalling collected packages: sortedcontainers, sniffio, outcome, h11, cryptography, wsproto, trio, pyOpenSSL, trio-websocket, selenium\n",
      "Successfully installed cryptography-35.0.0 h11-0.12.0 outcome-1.1.0 pyOpenSSL-21.0.0 selenium-4.0.0 sniffio-1.2.0 sortedcontainers-2.4.0 trio-0.19.0 trio-websocket-0.9.2 wsproto-1.0.0\n"
     ]
    }
   ],
   "metadata": {}
  },
  {
   "cell_type": "code",
   "execution_count": 7,
   "source": [
    "# import webdriver\n",
    "from selenium import webdriver\n",
    "  \n",
    "# create webdriver object\n",
    "driver = webdriver.Chrome()\n",
    "  \n",
    "# get geeksforgeeks.org\n",
    "driver.get(\"https://flappybird.io/\")\n",
    "  \n",
    "# get element \n",
    "element = driver.find_element_by_id(\"testCanvas\")\n",
    "png = driver.get_screenshot_as_png()\n",
    "#test = element.screenshot()\n",
    "print(test)  \n",
    "# click the element\n",
    "#element.click()"
   ],
   "outputs": [
    {
     "output_type": "stream",
     "name": "stderr",
     "text": [
      "/tmp/ipykernel_17704/1423473442.py:11: DeprecationWarning: find_element_by_* commands are deprecated. Please use find_element() instead\n",
      "  element = driver.find_element_by_id(\"testCanvas\")\n"
     ]
    },
    {
     "output_type": "error",
     "ename": "NameError",
     "evalue": "name 'test' is not defined",
     "traceback": [
      "\u001b[0;31m---------------------------------------------------------------------------\u001b[0m",
      "\u001b[0;31mNameError\u001b[0m                                 Traceback (most recent call last)",
      "\u001b[0;32m/tmp/ipykernel_17704/1423473442.py\u001b[0m in \u001b[0;36m<module>\u001b[0;34m\u001b[0m\n\u001b[1;32m     12\u001b[0m \u001b[0mpng\u001b[0m \u001b[0;34m=\u001b[0m \u001b[0mdriver\u001b[0m\u001b[0;34m.\u001b[0m\u001b[0mget_screenshot_as_png\u001b[0m\u001b[0;34m(\u001b[0m\u001b[0;34m)\u001b[0m\u001b[0;34m\u001b[0m\u001b[0;34m\u001b[0m\u001b[0m\n\u001b[1;32m     13\u001b[0m \u001b[0;31m#test = element.screenshot()\u001b[0m\u001b[0;34m\u001b[0m\u001b[0;34m\u001b[0m\u001b[0;34m\u001b[0m\u001b[0m\n\u001b[0;32m---> 14\u001b[0;31m \u001b[0mprint\u001b[0m\u001b[0;34m(\u001b[0m\u001b[0mtest\u001b[0m\u001b[0;34m)\u001b[0m\u001b[0;34m\u001b[0m\u001b[0;34m\u001b[0m\u001b[0m\n\u001b[0m\u001b[1;32m     15\u001b[0m \u001b[0;31m# click the element\u001b[0m\u001b[0;34m\u001b[0m\u001b[0;34m\u001b[0m\u001b[0;34m\u001b[0m\u001b[0m\n\u001b[1;32m     16\u001b[0m \u001b[0;31m#element.click()\u001b[0m\u001b[0;34m\u001b[0m\u001b[0;34m\u001b[0m\u001b[0;34m\u001b[0m\u001b[0m\n",
      "\u001b[0;31mNameError\u001b[0m: name 'test' is not defined"
     ]
    }
   ],
   "metadata": {}
  },
  {
   "cell_type": "code",
   "execution_count": 12,
   "source": [
    "from selenium import webdriver\n",
    "import cv2\n",
    "import numpy as np\n",
    "\n",
    "\n",
    "browser = webdriver.Chrome()\n",
    "browser.get(\"https://flappybird.io/\")\n",
    "\n",
    "# Element to be saved\n",
    "element = browser.find_element_by_id(\"testCanvas\")\n",
    "\n",
    "png = browser.get_screenshot_as_png()\n",
    "location = element.location\n",
    "size  = element.size\n",
    "\n",
    "nparr = np.frombuffer(png, np.uint8)\n",
    "img = cv2.imdecode(nparr, cv2.IMREAD_COLOR)\n",
    "\n",
    "\n",
    "left = location['x']\n",
    "top = location['y']\n",
    "right = location['x'] + size['width']\n",
    "bottom = location['y'] + size['height']\n",
    "\n",
    "#im = img[left:right, top:bottom]\n",
    "print(left)\n",
    "print(top)\n",
    "print(right)\n",
    "print(bottom)\n",
    "im = img[top:int(bottom), left:int(right)]\n",
    "#im = cv2.cvtColor(np.array(im), cv2.COLOR_RGB2GRAY)[..., np.newaxis]\n",
    "        \n",
    "#im = cv2.resize(im, (84, 84), interpolation=cv2.INTER_AREA)[..., np.newaxis]\n",
    "cv2.imwrite('filename.png',im)"
   ],
   "outputs": [
    {
     "output_type": "stream",
     "name": "stderr",
     "text": [
      "/tmp/ipykernel_17704/2032441639.py:10: DeprecationWarning: find_element_by_* commands are deprecated. Please use find_element() instead\n",
      "  element = browser.find_element_by_id(\"testCanvas\")\n"
     ]
    },
    {
     "output_type": "stream",
     "name": "stdout",
     "text": [
      "66\n",
      "92\n",
      "546\n",
      "732\n"
     ]
    },
    {
     "output_type": "execute_result",
     "data": {
      "text/plain": [
       "True"
      ]
     },
     "metadata": {},
     "execution_count": 12
    }
   ],
   "metadata": {}
  },
  {
   "cell_type": "code",
   "execution_count": 21,
   "source": [
    "\n"
   ],
   "outputs": [
    {
     "output_type": "stream",
     "name": "stdout",
     "text": [
      "66\n",
      "92\n",
      "546\n",
      "732\n"
     ]
    },
    {
     "output_type": "stream",
     "name": "stderr",
     "text": [
      "/tmp/ipykernel_17704/3321955909.py:1: DeprecationWarning: find_element_by_* commands are deprecated. Please use find_element() instead\n",
      "  element = browser.find_element_by_id(\"testCanvas\")\n"
     ]
    },
    {
     "output_type": "execute_result",
     "data": {
      "text/plain": [
       "True"
      ]
     },
     "metadata": {},
     "execution_count": 21
    }
   ],
   "metadata": {}
  },
  {
   "cell_type": "code",
   "execution_count": 35,
   "source": [
    "from selenium.webdriver.common.action_chains import ActionChains\n",
    "import time\n",
    "from selenium.webdriver.common.keys import Keys\n",
    "\n",
    "browser2 = webdriver.Chrome()\n",
    "browser2.get(\"https://flappybird.io/\")\n",
    "\n",
    "element2 = browser2.find_element_by_id(\"testCanvas\")\n",
    "time.sleep(5)\n",
    "element2.click()\n",
    "#ActionChains(element2).move_by_offset(460, 170).click().perform()\n",
    "time.sleep(5)\n",
    "png = browser2.get_screenshot_as_png()\n",
    "location = element2.location\n",
    "size  = element2.size\n",
    "\n",
    "nparr = np.frombuffer(png, np.uint8)\n",
    "img = cv2.imdecode(nparr, cv2.IMREAD_COLOR)\n",
    "\n",
    "\n",
    "left = location['x']\n",
    "top = location['y']\n",
    "right = location['x'] + size['width']\n",
    "bottom = location['y'] + size['height']\n",
    "\n",
    "#im = img[left:right, top:bottom]\n",
    "print(left)\n",
    "print(top)\n",
    "print(right)\n",
    "print(bottom)\n",
    "im = img[460:int(470), 170:int(180)]\n",
    "time.sleep(5)\n",
    "\n",
    "ActionChains(browser2).send_keys(Keys.SPACE).perform()\n",
    "#3ac = ActionChains(browser2)\n",
    "#ac.move_to_element(element2).move_by_offset(370, 109).click().perform()\n",
    "#c.move_to_element(element2).sendKeys(Keys.SPACE)\n",
    "\n",
    "#ActionChains(element2).move_by_offset(460, 170).click().perform()\n",
    "#im = cv2.cvtColor(np.array(im), cv2.COLOR_RGB2GRAY)[..., np.newaxis]\n",
    "        \n",
    "#im = cv2.resize(im, (84, 84), interpolation=cv2.INTER_AREA)[..., np.newaxis]\n",
    "cv2.imwrite('filename.png',im)"
   ],
   "outputs": [
    {
     "output_type": "stream",
     "name": "stderr",
     "text": [
      "/tmp/ipykernel_17704/3237224183.py:8: DeprecationWarning: find_element_by_* commands are deprecated. Please use find_element() instead\n",
      "  element2 = browser2.find_element_by_id(\"testCanvas\")\n"
     ]
    },
    {
     "output_type": "stream",
     "name": "stdout",
     "text": [
      "66\n",
      "92\n",
      "546\n",
      "732\n"
     ]
    },
    {
     "output_type": "execute_result",
     "data": {
      "text/plain": [
       "True"
      ]
     },
     "metadata": {},
     "execution_count": 35
    }
   ],
   "metadata": {}
  },
  {
   "cell_type": "code",
   "execution_count": 1,
   "source": [
    "!pip install webdriver-manager"
   ],
   "outputs": [
    {
     "output_type": "stream",
     "name": "stdout",
     "text": [
      "Collecting webdriver-manager\n",
      "  Downloading webdriver_manager-3.5.0-py2.py3-none-any.whl (17 kB)\n",
      "Requirement already satisfied: configparser in /home/adaptationai/anaconda3/envs/shamanai/lib/python3.8/site-packages (from webdriver-manager) (5.0.2)\n",
      "Collecting crayons\n",
      "  Downloading crayons-0.4.0-py2.py3-none-any.whl (4.6 kB)\n",
      "Requirement already satisfied: requests in /home/adaptationai/anaconda3/envs/shamanai/lib/python3.8/site-packages (from webdriver-manager) (2.26.0)\n",
      "Requirement already satisfied: colorama in /home/adaptationai/anaconda3/envs/shamanai/lib/python3.8/site-packages (from crayons->webdriver-manager) (0.4.4)\n",
      "Requirement already satisfied: certifi>=2017.4.17 in /home/adaptationai/anaconda3/envs/shamanai/lib/python3.8/site-packages (from requests->webdriver-manager) (2021.5.30)\n",
      "Requirement already satisfied: idna<4,>=2.5 in /home/adaptationai/anaconda3/envs/shamanai/lib/python3.8/site-packages (from requests->webdriver-manager) (3.2)\n",
      "Requirement already satisfied: urllib3<1.27,>=1.21.1 in /home/adaptationai/anaconda3/envs/shamanai/lib/python3.8/site-packages (from requests->webdriver-manager) (1.26.7)\n",
      "Requirement already satisfied: charset-normalizer~=2.0.0 in /home/adaptationai/anaconda3/envs/shamanai/lib/python3.8/site-packages (from requests->webdriver-manager) (2.0.6)\n",
      "Installing collected packages: crayons, webdriver-manager\n",
      "Successfully installed crayons-0.4.0 webdriver-manager-3.5.0\n"
     ]
    }
   ],
   "metadata": {}
  },
  {
   "cell_type": "code",
   "execution_count": null,
   "source": [],
   "outputs": [],
   "metadata": {}
  }
 ],
 "metadata": {
  "kernelspec": {
   "name": "python3",
   "display_name": "Python 3.8.3 64-bit ('shamanai': conda)"
  },
  "language_info": {
   "codemirror_mode": {
    "name": "ipython",
    "version": 3
   },
   "file_extension": ".py",
   "mimetype": "text/x-python",
   "name": "python",
   "nbconvert_exporter": "python",
   "pygments_lexer": "ipython3",
   "version": "3.8.3"
  },
  "interpreter": {
   "hash": "1bbffdbd12bdcf21ca9570312bd087f30726a0a4b1a8e71bb22c72e75a1bc071"
  }
 },
 "nbformat": 4,
 "nbformat_minor": 5
}