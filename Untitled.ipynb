{
 "cells": [
  {
   "cell_type": "code",
   "execution_count": null,
   "source": [],
   "outputs": [],
   "metadata": {}
  },
  {
   "cell_type": "code",
   "execution_count": 1,
   "source": [
    "import numpy as np\r\n",
    "import pyautogui\r\n",
    "import imutils\r\n",
    "import cv2"
   ],
   "outputs": [],
   "metadata": {}
  },
  {
   "cell_type": "code",
   "execution_count": 2,
   "source": [
    "import pytesseract\r\n",
    "pytesseract.pytesseract.tesseract_cmd = r'C:\\Users\\adaptation\\anaconda3\\envs\\Shaman-AI\\Library\\bin\\tesseract.exe'"
   ],
   "outputs": [],
   "metadata": {}
  },
  {
   "cell_type": "code",
   "execution_count": 38,
   "source": [
    "while True:\r\n",
    "    try:\r\n",
    "\r\n",
    "        state= pyautogui.screenshot(region=(1025, 260, 100, 50))\r\n",
    "        state = cv2.cvtColor(np.array(state), cv2.COLOR_RGB2BGR)\r\n",
    "        cv2.imshow(\"Stream\", state)\r\n",
    "        if cv2.waitKey(1)& 0xFF == ord('q'):\r\n",
    "            break      \r\n",
    "    except KeyboardInterrupt:\r\n",
    "        cv2.destroyAllWindows()\r\n",
    "        break"
   ],
   "outputs": [],
   "metadata": {}
  },
  {
   "cell_type": "code",
   "execution_count": 30,
   "source": [
    "from pynput import mouse\r\n",
    "r=pyautogui.position()\r\n",
    "r[0]"
   ],
   "outputs": [
    {
     "output_type": "execute_result",
     "data": {
      "text/plain": [
       "2563"
      ]
     },
     "metadata": {},
     "execution_count": 30
    }
   ],
   "metadata": {}
  },
  {
   "cell_type": "code",
   "execution_count": 3,
   "source": [
    "from pynput import mouse\r\n",
    "import time\r\n",
    "\r\n",
    "def on_click(x, y, button, pressed):\r\n",
    "    if button == mouse.Button.left:\r\n",
    "        print('{} at {}'.format('Pressed Left Click' if pressed else 'Released Left Click', (x, y)))\r\n",
    "        \r\n",
    "        return False # Returning False if you need to stop the program when Left clicked.\r\n",
    "    else:\r\n",
    "        print('{} at {}'.format('Pressed Right Click' if pressed else 'Released Right Click', (x, y)))\r\n",
    "        return False # Returning False if you need to stop the program when Left clicked.\r\n",
    "print(\"Please select top corner\")\r\n",
    "listener = mouse.Listener(on_click=on_click)\r\n",
    "listener.start()\r\n",
    "listener.join()\r\n",
    "X=pyautogui.position()\r\n",
    "topx = X[0]\r\n",
    "topy= X[1]\r\n",
    "time.sleep(1)\r\n",
    "print(topx)\r\n",
    "print(topy)\r\n",
    "print(\"Please select bottom corner\")\r\n",
    "listener = mouse.Listener(on_click=on_click)\r\n",
    "listener.start()\r\n",
    "listener.join()\r\n",
    "B=pyautogui.position()\r\n",
    "bottomx = B[0]\r\n",
    "bottomy= B[1]\r\n",
    "print(bottomx)\r\n",
    "print(bottomy)\r\n",
    "\r\n"
   ],
   "outputs": [
    {
     "output_type": "stream",
     "name": "stdout",
     "text": [
      "Please select top corner\n",
      "Pressed Left Click at (1018, 275)\n",
      "1018\n",
      "275\n",
      "Please select bottom corner\n",
      "Pressed Left Click at (1131, 315)\n",
      "1131\n",
      "315\n"
     ]
    }
   ],
   "metadata": {}
  },
  {
   "cell_type": "code",
   "execution_count": 5,
   "source": [
    "\r\n",
    "def image_ocr(tx, ty, bx, by):\r\n",
    "    topx = tx\r\n",
    "    topy = ty\r\n",
    "    bottomx = bx - topx\r\n",
    "    bottomy =  by - topy\r\n",
    "    state= pyautogui.screenshot(region=(int(topx), int(topy), int(bottomx), int(bottomy)))\r\n",
    "    state = cv2.cvtColor(np.array(state), cv2.COLOR_RGB2BGR)\r\n",
    "    text = pytesseract.image_to_string(state)\r\n",
    "    print(text)\r\n",
    "    return text\r\n",
    "\r\n"
   ],
   "outputs": [
    {
     "output_type": "stream",
     "name": "stdout",
     "text": [
      "113\n",
      "40\n",
      "Start Line\n",
      "\f\n"
     ]
    }
   ],
   "metadata": {}
  },
  {
   "cell_type": "code",
   "execution_count": 8,
   "source": [
    "state= pyautogui.screenshot(region=(1025, 260, 100, 50))\r\n",
    "state = cv2.cvtColor(np.array(state), cv2.COLOR_RGB2BGR)\r\n",
    "text = pytesseract.image_to_string(state)\r\n",
    "print(text)"
   ],
   "outputs": [
    {
     "output_type": "stream",
     "name": "stdout",
     "text": [
      "Start Line\n",
      "\f\n"
     ]
    }
   ],
   "metadata": {}
  },
  {
   "cell_type": "code",
   "execution_count": 41,
   "source": [
    "pyautogui.position()"
   ],
   "outputs": [
    {
     "output_type": "execute_result",
     "data": {
      "text/plain": [
       "Point(x=2558, y=166)"
      ]
     },
     "metadata": {},
     "execution_count": 41
    }
   ],
   "metadata": {}
  },
  {
   "cell_type": "code",
   "execution_count": 7,
   "source": [
    "x = 1080\r\n",
    "max\r\n",
    "normalized = (x-0)/(1080-0)\r\n",
    "denormalized = normalized *(1080-0)\r\n",
    "denormalized"
   ],
   "outputs": [
    {
     "output_type": "execute_result",
     "data": {
      "text/plain": [
       "1080.0"
      ]
     },
     "metadata": {},
     "execution_count": 7
    }
   ],
   "metadata": {}
  },
  {
   "cell_type": "code",
   "execution_count": 42,
   "source": [
    "from pynput import mouse\r\n",
    "\r\n",
    "def on_click(x, y, button, pressed):\r\n",
    "    if button == mouse.Button.left:\r\n",
    "        print('{} at {}'.format('Pressed Left Click' if pressed else 'Released Left Click', (x, y)))\r\n",
    "        return False # Returning False if you need to stop the program when Left clicked.\r\n",
    "    else:\r\n",
    "        print('{} at {}'.format('Pressed Right Click' if pressed else 'Released Right Click', (x, y)))\r\n",
    "\r\n",
    "listener = mouse.Listener(on_click=on_click)\r\n",
    "listener.start()\r\n",
    "listener.join()"
   ],
   "outputs": [
    {
     "output_type": "stream",
     "name": "stdout",
     "text": [
      "Pressed Left Click at (1370, 500)\n"
     ]
    }
   ],
   "metadata": {}
  },
  {
   "cell_type": "code",
   "execution_count": 4,
   "source": [
    "import signal\r\n",
    "from xbox360controller import Xbox360Controller\r\n",
    "\r\n",
    "\r\n",
    "def on_button_pressed(button):\r\n",
    "    print('Button {0} was pressed'.format(button.name))\r\n",
    "\r\n",
    "\r\n",
    "def on_button_released(button):\r\n",
    "    print('Button {0} was released'.format(button.name))\r\n",
    "\r\n",
    "\r\n",
    "def on_axis_moved(axis):\r\n",
    "    print('Axis {0} moved to {1} {2}'.format(axis.name, axis.x, axis.y))\r\n",
    "\r\n",
    "try:\r\n",
    "    with Xbox360Controller(0, axis_threshold=0.2) as controller:\r\n",
    "        # Button A events\r\n",
    "        controller.button_a.when_pressed = on_button_pressed\r\n",
    "        controller.button_a.when_released = on_button_released\r\n",
    "        controller.button_b.when_pressed = on_button_pressed\r\n",
    "        controller.button_b.when_released = on_button_released\r\n",
    "        controller.button_y.when_pressed = on_button_pressed\r\n",
    "        controller.button_y.when_released = on_button_released\r\n",
    "        controller.button_x.when_pressed = on_button_pressed\r\n",
    "        controller.button_x.when_released = on_button_released\r\n",
    "        controller.button_trigger_l.when_pressed = on_button_pressed\r\n",
    "        controller.button_trigger_l.when_released = on_button_released\r\n",
    "        controller.button_trigger_r.when_pressed = on_button_pressed\r\n",
    "        controller.button_trigger_r.when_released = on_button_released\r\n",
    "\r\n",
    "        # Left and right axis move event\r\n",
    "        controller.axis_l.when_moved = on_axis_moved\r\n",
    "        controller.axis_r.when_moved = on_axis_moved\r\n",
    "        controller.hat.when_moved = on_axis_moved\r\n",
    "        controller.trigger_l.when_moved = on_axis_moved\r\n",
    "        controller.trigger_r.when_moved = on_axis_moved\r\n",
    "        #controller.axis_l.when_pressed = on_button_pressed\r\n",
    "        #controller.axis_r.when_released = on_button_released\r\n",
    "        #controller.axis_u.when_moved = on_axis_moved\r\n",
    "        #controller.axis_d.when_moved = on_axis_moved\r\n",
    "\r\n",
    "        signal.pause()\r\n",
    "except KeyboardInterrupt:\r\n",
    "    pass"
   ],
   "outputs": [
    {
     "output_type": "error",
     "ename": "Exception",
     "evalue": "controller device with index 0 was not found!",
     "traceback": [
      "\u001b[0;31m---------------------------------------------------------------------------\u001b[0m",
      "\u001b[0;31mFileNotFoundError\u001b[0m                         Traceback (most recent call last)",
      "\u001b[0;32m~/anaconda3/envs/shaman-ai/lib/python3.6/site-packages/xbox360controller/controller.py\u001b[0m in \u001b[0;36m__init__\u001b[0;34m(self, index, axis_threshold, raw_mode)\u001b[0m\n\u001b[1;32m    164\u001b[0m         \u001b[0;32mtry\u001b[0m\u001b[0;34m:\u001b[0m\u001b[0;34m\u001b[0m\u001b[0;34m\u001b[0m\u001b[0m\n\u001b[0;32m--> 165\u001b[0;31m             \u001b[0mself\u001b[0m\u001b[0;34m.\u001b[0m\u001b[0m_dev_file\u001b[0m \u001b[0;34m=\u001b[0m \u001b[0mopen\u001b[0m\u001b[0;34m(\u001b[0m\u001b[0mself\u001b[0m\u001b[0;34m.\u001b[0m\u001b[0m_get_dev_file\u001b[0m\u001b[0;34m(\u001b[0m\u001b[0;34m)\u001b[0m\u001b[0;34m,\u001b[0m \u001b[0;34m'rb'\u001b[0m\u001b[0;34m)\u001b[0m\u001b[0;34m\u001b[0m\u001b[0;34m\u001b[0m\u001b[0m\n\u001b[0m\u001b[1;32m    166\u001b[0m         \u001b[0;32mexcept\u001b[0m \u001b[0mFileNotFoundError\u001b[0m\u001b[0;34m:\u001b[0m\u001b[0;34m\u001b[0m\u001b[0;34m\u001b[0m\u001b[0m\n",
      "\u001b[0;31mFileNotFoundError\u001b[0m: [Errno 2] No such file or directory: '/dev/input/js0'",
      "\nDuring handling of the above exception, another exception occurred:\n",
      "\u001b[0;31mException\u001b[0m                                 Traceback (most recent call last)",
      "\u001b[0;32m<ipython-input-4-be6243a4812a>\u001b[0m in \u001b[0;36m<module>\u001b[0;34m\u001b[0m\n\u001b[1;32m     15\u001b[0m \u001b[0;34m\u001b[0m\u001b[0m\n\u001b[1;32m     16\u001b[0m \u001b[0;32mtry\u001b[0m\u001b[0;34m:\u001b[0m\u001b[0;34m\u001b[0m\u001b[0;34m\u001b[0m\u001b[0m\n\u001b[0;32m---> 17\u001b[0;31m     \u001b[0;32mwith\u001b[0m \u001b[0mXbox360Controller\u001b[0m\u001b[0;34m(\u001b[0m\u001b[0;36m0\u001b[0m\u001b[0;34m,\u001b[0m \u001b[0maxis_threshold\u001b[0m\u001b[0;34m=\u001b[0m\u001b[0;36m0.2\u001b[0m\u001b[0;34m)\u001b[0m \u001b[0;32mas\u001b[0m \u001b[0mcontroller\u001b[0m\u001b[0;34m:\u001b[0m\u001b[0;34m\u001b[0m\u001b[0;34m\u001b[0m\u001b[0m\n\u001b[0m\u001b[1;32m     18\u001b[0m         \u001b[0;31m# Button A events\u001b[0m\u001b[0;34m\u001b[0m\u001b[0;34m\u001b[0m\u001b[0;34m\u001b[0m\u001b[0m\n\u001b[1;32m     19\u001b[0m         \u001b[0mcontroller\u001b[0m\u001b[0;34m.\u001b[0m\u001b[0mbutton_a\u001b[0m\u001b[0;34m.\u001b[0m\u001b[0mwhen_pressed\u001b[0m \u001b[0;34m=\u001b[0m \u001b[0mon_button_pressed\u001b[0m\u001b[0;34m\u001b[0m\u001b[0;34m\u001b[0m\u001b[0m\n",
      "\u001b[0;32m~/anaconda3/envs/shaman-ai/lib/python3.6/site-packages/xbox360controller/controller.py\u001b[0m in \u001b[0;36m__init__\u001b[0;34m(self, index, axis_threshold, raw_mode)\u001b[0m\n\u001b[1;32m    166\u001b[0m         \u001b[0;32mexcept\u001b[0m \u001b[0mFileNotFoundError\u001b[0m\u001b[0;34m:\u001b[0m\u001b[0;34m\u001b[0m\u001b[0;34m\u001b[0m\u001b[0m\n\u001b[1;32m    167\u001b[0m             raise Exception('controller device with index {index} '\n\u001b[0;32m--> 168\u001b[0;31m                             'was not found!'.format(index=index))\n\u001b[0m\u001b[1;32m    169\u001b[0m \u001b[0;34m\u001b[0m\u001b[0m\n\u001b[1;32m    170\u001b[0m         \u001b[0mself\u001b[0m\u001b[0;34m.\u001b[0m\u001b[0m_event_file\u001b[0m \u001b[0;34m=\u001b[0m \u001b[0mopen\u001b[0m\u001b[0;34m(\u001b[0m\u001b[0mself\u001b[0m\u001b[0;34m.\u001b[0m\u001b[0m_get_event_file\u001b[0m\u001b[0;34m(\u001b[0m\u001b[0;34m)\u001b[0m\u001b[0;34m,\u001b[0m \u001b[0;34m'wb'\u001b[0m\u001b[0;34m)\u001b[0m\u001b[0;34m\u001b[0m\u001b[0;34m\u001b[0m\u001b[0m\n",
      "\u001b[0;31mException\u001b[0m: controller device with index 0 was not found!"
     ]
    }
   ],
   "metadata": {
    "scrolled": false
   }
  },
  {
   "cell_type": "code",
   "execution_count": 3,
   "source": [
    "state= pyautogui.screenshot(region=(0,0, 84, 84))\r\n",
    "state = cv2.cvtColor(np.array(state), cv2.COLOR_RGB2BGR)\r\n",
    "#image = cv2.imread(\"in_memory_to_disk.png\")\r\n",
    "cv2.imshow('HSV image', state);\r\n",
    "cv2.waitKey(1) \r\n",
    "cv2.destroyAllWindows()\r\n"
   ],
   "outputs": [
    {
     "output_type": "execute_result",
     "data": {
      "text/plain": [
       "<function destroyAllWindows>"
      ]
     },
     "metadata": {},
     "execution_count": 3
    }
   ],
   "metadata": {}
  },
  {
   "cell_type": "code",
   "execution_count": 5,
   "source": [
    "mylist = [[[1,2,3],[4,5,6],[7,8,9]],[[1,2,3],[4,5,6],[7,8,9]], [[1,2,3],[4,5,6],[7,8,9]]]\r\n",
    "print(mylist[0])\r\n",
    "mylist.shape"
   ],
   "outputs": [
    {
     "output_type": "stream",
     "name": "stdout",
     "text": [
      "[[1, 2, 3], [4, 5, 6], [7, 8, 9]]\n"
     ]
    },
    {
     "output_type": "error",
     "ename": "AttributeError",
     "evalue": "'list' object has no attribute 'shape'",
     "traceback": [
      "\u001b[0;31m---------------------------------------------------------------------------\u001b[0m",
      "\u001b[0;31mAttributeError\u001b[0m                            Traceback (most recent call last)",
      "\u001b[0;32m<ipython-input-5-5212801d3ab7>\u001b[0m in \u001b[0;36m<module>\u001b[0;34m\u001b[0m\n\u001b[1;32m      1\u001b[0m \u001b[0mmylist\u001b[0m \u001b[0;34m=\u001b[0m \u001b[0;34m[\u001b[0m\u001b[0;34m[\u001b[0m\u001b[0;34m[\u001b[0m\u001b[0;36m1\u001b[0m\u001b[0;34m,\u001b[0m\u001b[0;36m2\u001b[0m\u001b[0;34m,\u001b[0m\u001b[0;36m3\u001b[0m\u001b[0;34m]\u001b[0m\u001b[0;34m,\u001b[0m\u001b[0;34m[\u001b[0m\u001b[0;36m4\u001b[0m\u001b[0;34m,\u001b[0m\u001b[0;36m5\u001b[0m\u001b[0;34m,\u001b[0m\u001b[0;36m6\u001b[0m\u001b[0;34m]\u001b[0m\u001b[0;34m,\u001b[0m\u001b[0;34m[\u001b[0m\u001b[0;36m7\u001b[0m\u001b[0;34m,\u001b[0m\u001b[0;36m8\u001b[0m\u001b[0;34m,\u001b[0m\u001b[0;36m9\u001b[0m\u001b[0;34m]\u001b[0m\u001b[0;34m]\u001b[0m\u001b[0;34m,\u001b[0m\u001b[0;34m[\u001b[0m\u001b[0;34m[\u001b[0m\u001b[0;36m1\u001b[0m\u001b[0;34m,\u001b[0m\u001b[0;36m2\u001b[0m\u001b[0;34m,\u001b[0m\u001b[0;36m3\u001b[0m\u001b[0;34m]\u001b[0m\u001b[0;34m,\u001b[0m\u001b[0;34m[\u001b[0m\u001b[0;36m4\u001b[0m\u001b[0;34m,\u001b[0m\u001b[0;36m5\u001b[0m\u001b[0;34m,\u001b[0m\u001b[0;36m6\u001b[0m\u001b[0;34m]\u001b[0m\u001b[0;34m,\u001b[0m\u001b[0;34m[\u001b[0m\u001b[0;36m7\u001b[0m\u001b[0;34m,\u001b[0m\u001b[0;36m8\u001b[0m\u001b[0;34m,\u001b[0m\u001b[0;36m9\u001b[0m\u001b[0;34m]\u001b[0m\u001b[0;34m]\u001b[0m\u001b[0;34m,\u001b[0m \u001b[0;34m[\u001b[0m\u001b[0;34m[\u001b[0m\u001b[0;36m1\u001b[0m\u001b[0;34m,\u001b[0m\u001b[0;36m2\u001b[0m\u001b[0;34m,\u001b[0m\u001b[0;36m3\u001b[0m\u001b[0;34m]\u001b[0m\u001b[0;34m,\u001b[0m\u001b[0;34m[\u001b[0m\u001b[0;36m4\u001b[0m\u001b[0;34m,\u001b[0m\u001b[0;36m5\u001b[0m\u001b[0;34m,\u001b[0m\u001b[0;36m6\u001b[0m\u001b[0;34m]\u001b[0m\u001b[0;34m,\u001b[0m\u001b[0;34m[\u001b[0m\u001b[0;36m7\u001b[0m\u001b[0;34m,\u001b[0m\u001b[0;36m8\u001b[0m\u001b[0;34m,\u001b[0m\u001b[0;36m9\u001b[0m\u001b[0;34m]\u001b[0m\u001b[0;34m]\u001b[0m\u001b[0;34m]\u001b[0m\u001b[0;34m\u001b[0m\u001b[0;34m\u001b[0m\u001b[0m\n\u001b[1;32m      2\u001b[0m \u001b[0mprint\u001b[0m\u001b[0;34m(\u001b[0m\u001b[0mmylist\u001b[0m\u001b[0;34m[\u001b[0m\u001b[0;36m0\u001b[0m\u001b[0;34m]\u001b[0m\u001b[0;34m)\u001b[0m\u001b[0;34m\u001b[0m\u001b[0;34m\u001b[0m\u001b[0m\n\u001b[0;32m----> 3\u001b[0;31m \u001b[0mmylist\u001b[0m\u001b[0;34m.\u001b[0m\u001b[0mshape\u001b[0m\u001b[0;34m\u001b[0m\u001b[0;34m\u001b[0m\u001b[0m\n\u001b[0m",
      "\u001b[0;31mAttributeError\u001b[0m: 'list' object has no attribute 'shape'"
     ]
    }
   ],
   "metadata": {}
  },
  {
   "cell_type": "code",
   "execution_count": 6,
   "source": [
    "newmylist = np.asarray(mylist)"
   ],
   "outputs": [],
   "metadata": {}
  },
  {
   "cell_type": "code",
   "execution_count": 8,
   "source": [
    "newmylist.shape"
   ],
   "outputs": [
    {
     "output_type": "execute_result",
     "data": {
      "text/plain": [
       "(3, 3, 3)"
      ]
     },
     "metadata": {},
     "execution_count": 8
    }
   ],
   "metadata": {}
  },
  {
   "cell_type": "code",
   "execution_count": 11,
   "source": [
    "type(newmylist)"
   ],
   "outputs": [
    {
     "output_type": "execute_result",
     "data": {
      "text/plain": [
       "numpy.ndarray"
      ]
     },
     "metadata": {},
     "execution_count": 11
    }
   ],
   "metadata": {}
  },
  {
   "cell_type": "code",
   "execution_count": 12,
   "source": [
    "newmylist.shape"
   ],
   "outputs": [
    {
     "output_type": "execute_result",
     "data": {
      "text/plain": [
       "(3, 3, 3)"
      ]
     },
     "metadata": {},
     "execution_count": 12
    }
   ],
   "metadata": {}
  },
  {
   "cell_type": "code",
   "execution_count": 27,
   "source": [
    "np.random.randint(0,3)"
   ],
   "outputs": [
    {
     "output_type": "execute_result",
     "data": {
      "text/plain": [
       "0"
      ]
     },
     "metadata": {},
     "execution_count": 27
    }
   ],
   "metadata": {}
  },
  {
   "cell_type": "code",
   "execution_count": 6,
   "source": [
    "state = [0,1,2]\r\n",
    "state = [state[np.random.randint(0,3)]]\r\n",
    "\r\n",
    "state = np.asarray(state)\r\n",
    "state.shape"
   ],
   "outputs": [
    {
     "output_type": "stream",
     "name": "stderr",
     "text": [
      "/home/adaptation/anaconda3/envs/shaman-ai/lib/python3.6/site-packages/ipykernel_launcher.py:2: DeprecationWarning: This function is deprecated. Please call randint(1, 3 + 1) instead\n",
      "  \n"
     ]
    },
    {
     "output_type": "execute_result",
     "data": {
      "text/plain": [
       "(1,)"
      ]
     },
     "metadata": {},
     "execution_count": 6
    }
   ],
   "metadata": {}
  },
  {
   "cell_type": "code",
   "execution_count": 3,
   "source": [
    "for i in range(100):\r\n",
    "    print(np.random.randint(0,3))"
   ],
   "outputs": [
    {
     "output_type": "stream",
     "name": "stdout",
     "text": [
      "0\n",
      "1\n",
      "0\n",
      "1\n",
      "1\n",
      "1\n",
      "0\n",
      "2\n",
      "0\n",
      "1\n",
      "0\n",
      "1\n",
      "1\n",
      "2\n",
      "1\n",
      "0\n",
      "0\n",
      "1\n",
      "1\n",
      "2\n",
      "0\n",
      "0\n",
      "0\n",
      "1\n",
      "2\n",
      "0\n",
      "2\n",
      "2\n",
      "2\n",
      "1\n",
      "0\n",
      "0\n",
      "2\n",
      "0\n",
      "2\n",
      "1\n",
      "1\n",
      "0\n",
      "2\n",
      "0\n",
      "1\n",
      "0\n",
      "2\n",
      "1\n",
      "2\n",
      "0\n",
      "2\n",
      "0\n",
      "1\n",
      "1\n",
      "1\n",
      "2\n",
      "1\n",
      "1\n",
      "2\n",
      "0\n",
      "0\n",
      "0\n",
      "0\n",
      "2\n",
      "0\n",
      "2\n",
      "0\n",
      "0\n",
      "2\n",
      "2\n",
      "2\n",
      "0\n",
      "0\n",
      "2\n",
      "1\n",
      "0\n",
      "2\n",
      "2\n",
      "2\n",
      "0\n",
      "0\n",
      "2\n",
      "1\n",
      "0\n",
      "2\n",
      "2\n",
      "0\n",
      "2\n",
      "1\n",
      "1\n",
      "0\n",
      "0\n",
      "0\n",
      "1\n",
      "0\n",
      "0\n",
      "1\n",
      "0\n",
      "1\n",
      "0\n",
      "2\n",
      "0\n",
      "1\n",
      "2\n"
     ]
    }
   ],
   "metadata": {}
  },
  {
   "cell_type": "code",
   "execution_count": null,
   "source": [],
   "outputs": [],
   "metadata": {}
  }
 ],
 "metadata": {
  "kernelspec": {
   "name": "python3",
   "display_name": "Python 3.6.13 64-bit (conda)"
  },
  "language_info": {
   "codemirror_mode": {
    "name": "ipython",
    "version": 3
   },
   "file_extension": ".py",
   "mimetype": "text/x-python",
   "name": "python",
   "nbconvert_exporter": "python",
   "pygments_lexer": "ipython3",
   "version": "3.6.13"
  },
  "interpreter": {
   "hash": "1ac7ef4d885de1ed9a7c85c912f9fff7dba086704d6719f8a36dc962f24ba0ff"
  }
 },
 "nbformat": 4,
 "nbformat_minor": 4
}